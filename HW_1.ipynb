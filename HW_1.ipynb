{
 "cells": [
  {
   "cell_type": "markdown",
   "id": "cf16f56a-1c98-434e-987c-6923be4f1683",
   "metadata": {},
   "source": [
    "### Задача 1. Ошибка в затратах на рекламу\n",
    "###### Дан список adv с затратами на рекламу.\n",
    "###### Но в данных есть ошибки, некоторые затраты имеют отрицательную величину.\n",
    "###### Удалите такие значения из списка и посчитайте суммарные затраты.\n",
    "###### Запишите их в переменную x.\n",
    "###### Используйте list comprehensions."
   ]
  },
  {
   "cell_type": "code",
   "execution_count": 2,
   "id": "b8b59dd7-5125-4b1f-82ea-a761c2ae53bb",
   "metadata": {},
   "outputs": [
    {
     "data": {
      "text/plain": [
       "1425"
      ]
     },
     "execution_count": 2,
     "metadata": {},
     "output_type": "execute_result"
    }
   ],
   "source": [
    "adv = [100, 125, -90, 345, 655, -1, 0, 200]\n",
    "x = sum([i for i in adv if i >= 0])\n",
    "x"
   ]
  },
  {
   "cell_type": "markdown",
   "id": "e85ff518-7c00-402e-a3e4-46f79f81c9e2",
   "metadata": {},
   "source": [
    "### Задача 2. Склад с фруктами\n",
    "#####  На складе лежат разные фрукты в разном количестве.\n",
    "##### Нужно написать функцию total_fruits, которая на вход принимает любое количество названий фруктов и их количество, а возвращает общее количество \n",
    "##### фруктов на складе.\n",
    "\n",
    "##### можно решить через *kwargs"
   ]
  },
  {
   "cell_type": "code",
   "execution_count": 4,
   "id": "beeed1f2-69c3-4c5f-b22c-8441ac012302",
   "metadata": {},
   "outputs": [
    {
     "name": "stdout",
     "output_type": "stream",
     "text": [
      "23\n"
     ]
    }
   ],
   "source": [
    "def total_fruits(**kwargs):\n",
    "    total = sum (kwargs.values())\n",
    "    return total\n",
    "print(total_fruits(apples=10, bananas=5, oranges=8))"
   ]
  },
  {
   "cell_type": "markdown",
   "id": "d053a5db-4c2a-4a43-b64a-76aa49a4b409",
   "metadata": {},
   "source": [
    "#### Задача 3. Сумма покупок в ноябре\n",
    "##### Даны два списка: дата покупки dates, суммы покупок по датам income.\n",
    "##### Найти итоговую сумму всех покупок в ноябре и сохранить ее в переменную x.\n",
    "##### Используйте list comprehensions."
   ]
  },
  {
   "cell_type": "code",
   "execution_count": 5,
   "id": "fc5cc25d-015b-4d6f-b506-dd8cbb34a81d",
   "metadata": {},
   "outputs": [
    {
     "data": {
      "text/plain": [
       "100"
      ]
     },
     "execution_count": 5,
     "metadata": {},
     "output_type": "execute_result"
    }
   ],
   "source": [
    "dates = ['2021-11-01']\n",
    "income = [100]\n",
    "\n",
    "x = sum([income [i] for i in range (len(dates)) if dates[i].split('-')[1] == '11'])\n",
    "x"
   ]
  },
  {
   "cell_type": "markdown",
   "id": "bc7f9bc1-1243-4fe9-97a6-63d9854f2778",
   "metadata": {},
   "source": [
    "### Задача 4. Найдите выручку компании \n",
    "##### Найдите выручку компании в зависимости от месяца Для этого напишите функцию calc_income_by_month(), которая на вход принимает список \n",
    "##### Найдите выручку компании в зависимости от месяца Для этого напишите функцию calc_income_by_month(), которая на вход принимает список с датами \n",
    "##### Найдите выручку компании в зависимости от месяца Для этого напишите функцию calc_income_by_month(), которая на вход принимает список с датами \n",
    "##### и список с выручкой, а на выходе словарь, где ключи - это месяцы, а значения - это выручка. Используйте аннотирование типов.и список с выручкой, \n",
    "##### а на выходе словарь, где ключи - это месяцы, а значения - это выручка. Используйте аннотирование типов.с датами и список с выручкой, а на выходе \n",
    "##### словарь, где ключи - это месяцы, а значения - это выручка. Используйте аннотирование типов.  "
   ]
  },
  {
   "cell_type": "code",
   "execution_count": 6,
   "id": "840b3c5c-d88c-4079-9269-ab4469e3d500",
   "metadata": {},
   "outputs": [
    {
     "name": "stdout",
     "output_type": "stream",
     "text": [
      "{'11': 100}\n"
     ]
    }
   ],
   "source": [
    "dates = ['2021-11-01']\n",
    "incomes = [100]\n",
    "\n",
    "def calc_income_by_month(dates, incomes):\n",
    "    income_by_month = {}\n",
    "    for i in range(len(dates)): \n",
    "        month = dates[i].split('-')[1]\n",
    "        if month in income_by_month:\n",
    "            income_by_month[month] += incomes[i]\n",
    "        else:\n",
    "            income_by_month[month] = incomes[i]\n",
    "    return income_by_month\n",
    "    \n",
    "print(calc_income_by_month(dates = ['2021-11-01'], incomes = [100]))"
   ]
  }
 ],
 "metadata": {
  "kernelspec": {
   "display_name": "Python 3 (ipykernel)",
   "language": "python",
   "name": "python3"
  },
  "language_info": {
   "codemirror_mode": {
    "name": "ipython",
    "version": 3
   },
   "file_extension": ".py",
   "mimetype": "text/x-python",
   "name": "python",
   "nbconvert_exporter": "python",
   "pygments_lexer": "ipython3",
   "version": "3.11.7"
  }
 },
 "nbformat": 4,
 "nbformat_minor": 5
}
